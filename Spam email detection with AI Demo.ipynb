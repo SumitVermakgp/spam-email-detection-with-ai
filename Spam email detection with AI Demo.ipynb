{
 "cells": [
  {
   "cell_type": "markdown",
   "id": "198a0cc1",
   "metadata": {},
   "source": [
    "## Install the packages"
   ]
  },
  {
   "cell_type": "code",
   "execution_count": 1,
   "id": "8edf134b",
   "metadata": {},
   "outputs": [],
   "source": [
    "import numpy as np\n",
    "import pandas as pd\n",
    "from sklearn.datasets import load_files\n",
    "from collections import Counter\n",
    "import matplotlib.pyplot as plt\n",
    "import re\n",
    "from sklearn.model_selection import train_test_split "
   ]
  },
  {
   "cell_type": "markdown",
   "id": "12bb4f9b",
   "metadata": {},
   "source": [
    "# Load Data"
   ]
  },
  {
   "cell_type": "code",
   "execution_count": 2,
   "id": "9e515240",
   "metadata": {},
   "outputs": [],
   "source": [
    "X, y = [], []\n",
    "for i in range(1,7):\n",
    "    emails = load_files(f\"./data/enron{i}\")\n",
    "    X = np.append(X, emails.data)\n",
    "    y = np.append(y, emails.target)\n",
    "\n",
    "classes = emails.target_names"
   ]
  },
  {
   "cell_type": "code",
   "execution_count": 3,
   "id": "baa66719",
   "metadata": {},
   "outputs": [],
   "source": [
    "df_data = pd.DataFrame()\n",
    "df_target = pd.DataFrame()\n",
    "df_data['data'] = pd.DataFrame(X)\n",
    "df_target['target'] = pd.DataFrame(y)"
   ]
  },
  {
   "cell_type": "code",
   "execution_count": 4,
   "id": "c552febd",
   "metadata": {},
   "outputs": [
    {
     "data": {
      "text/plain": [
       "(33715, 1)"
      ]
     },
     "execution_count": 4,
     "metadata": {},
     "output_type": "execute_result"
    }
   ],
   "source": [
    "df_data.shape"
   ]
  },
  {
   "cell_type": "code",
   "execution_count": 5,
   "id": "21e34ea8",
   "metadata": {},
   "outputs": [
    {
     "data": {
      "text/plain": [
       "(33715, 1)"
      ]
     },
     "execution_count": 5,
     "metadata": {},
     "output_type": "execute_result"
    }
   ],
   "source": [
    "df_target.shape"
   ]
  },
  {
   "cell_type": "code",
   "execution_count": 6,
   "id": "5fc7ebd2",
   "metadata": {},
   "outputs": [
    {
     "data": {
      "text/html": [
       "<div>\n",
       "<style scoped>\n",
       "    .dataframe tbody tr th:only-of-type {\n",
       "        vertical-align: middle;\n",
       "    }\n",
       "\n",
       "    .dataframe tbody tr th {\n",
       "        vertical-align: top;\n",
       "    }\n",
       "\n",
       "    .dataframe thead th {\n",
       "        text-align: right;\n",
       "    }\n",
       "</style>\n",
       "<table border=\"1\" class=\"dataframe\">\n",
       "  <thead>\n",
       "    <tr style=\"text-align: right;\">\n",
       "      <th></th>\n",
       "      <th>data</th>\n",
       "    </tr>\n",
       "  </thead>\n",
       "  <tbody>\n",
       "    <tr>\n",
       "      <th>0</th>\n",
       "      <td>b'Subject: nesa / hea \\' s 24 th annual meetin...</td>\n",
       "    </tr>\n",
       "    <tr>\n",
       "      <th>1</th>\n",
       "      <td>b'Subject: meter 1431 - nov 1999\\r\\ndaren -\\r\\...</td>\n",
       "    </tr>\n",
       "    <tr>\n",
       "      <th>2</th>\n",
       "      <td>b\"Subject: investor here .\\r\\nfrom : mr . rich...</td>\n",
       "    </tr>\n",
       "    <tr>\n",
       "      <th>3</th>\n",
       "      <td>b\"Subject: hi paliourg all available meds . av...</td>\n",
       "    </tr>\n",
       "    <tr>\n",
       "      <th>4</th>\n",
       "      <td>b'Subject: january nominations at shell deer p...</td>\n",
       "    </tr>\n",
       "  </tbody>\n",
       "</table>\n",
       "</div>"
      ],
      "text/plain": [
       "                                                data\n",
       "0  b'Subject: nesa / hea \\' s 24 th annual meetin...\n",
       "1  b'Subject: meter 1431 - nov 1999\\r\\ndaren -\\r\\...\n",
       "2  b\"Subject: investor here .\\r\\nfrom : mr . rich...\n",
       "3  b\"Subject: hi paliourg all available meds . av...\n",
       "4  b'Subject: january nominations at shell deer p..."
      ]
     },
     "execution_count": 6,
     "metadata": {},
     "output_type": "execute_result"
    }
   ],
   "source": [
    "df_data.head()"
   ]
  },
  {
   "cell_type": "code",
   "execution_count": 7,
   "id": "96c63d9a",
   "metadata": {},
   "outputs": [
    {
     "data": {
      "text/html": [
       "<div>\n",
       "<style scoped>\n",
       "    .dataframe tbody tr th:only-of-type {\n",
       "        vertical-align: middle;\n",
       "    }\n",
       "\n",
       "    .dataframe tbody tr th {\n",
       "        vertical-align: top;\n",
       "    }\n",
       "\n",
       "    .dataframe thead th {\n",
       "        text-align: right;\n",
       "    }\n",
       "</style>\n",
       "<table border=\"1\" class=\"dataframe\">\n",
       "  <thead>\n",
       "    <tr style=\"text-align: right;\">\n",
       "      <th></th>\n",
       "      <th>target</th>\n",
       "    </tr>\n",
       "  </thead>\n",
       "  <tbody>\n",
       "    <tr>\n",
       "      <th>0</th>\n",
       "      <td>0.0</td>\n",
       "    </tr>\n",
       "    <tr>\n",
       "      <th>1</th>\n",
       "      <td>0.0</td>\n",
       "    </tr>\n",
       "    <tr>\n",
       "      <th>2</th>\n",
       "      <td>1.0</td>\n",
       "    </tr>\n",
       "    <tr>\n",
       "      <th>3</th>\n",
       "      <td>1.0</td>\n",
       "    </tr>\n",
       "    <tr>\n",
       "      <th>4</th>\n",
       "      <td>0.0</td>\n",
       "    </tr>\n",
       "  </tbody>\n",
       "</table>\n",
       "</div>"
      ],
      "text/plain": [
       "   target\n",
       "0     0.0\n",
       "1     0.0\n",
       "2     1.0\n",
       "3     1.0\n",
       "4     0.0"
      ]
     },
     "execution_count": 7,
     "metadata": {},
     "output_type": "execute_result"
    }
   ],
   "source": [
    "df_target.head()"
   ]
  },
  {
   "cell_type": "code",
   "execution_count": 8,
   "id": "fba63fbb",
   "metadata": {},
   "outputs": [
    {
     "data": {
      "text/plain": [
       "b'Subject: nesa / hea \\' s 24 th annual meeting\\r\\nsaddle up for nesa / hea \\' s 24 th annual meeting\\r\\n\" deep in the heart of texas \"\\r\\nseptember 9 - 11 , 2001\\r\\nhyatt regency hill country resort\\r\\nsan antonio , texas\\r\\nthe annual meeting planning committee has put together an outstanding\\r\\nprogram for your review . it is attached below in an adobe acrobat pdf file\\r\\n- if you have problems with the attachment please call nesa / hea\\r\\nheadquarters at ( 713 ) 856 - 6525 and we \\' ll mail or fax a copy out immediately .\\r\\ngeneral session topics include :\\r\\n* will tomorrow \\' s restructured electric infrastructure support\\r\\ntomorrow \\' s economy ?\\r\\n* power deregulation panel : developer / ipp , utility / transmission , power\\r\\nmarketer , government , retail\\r\\n* power demand\\r\\n* the state of the energy industry\\r\\n* new political administration - impact on energy policy and\\r\\nenvironment\\r\\nnetworking opportunities :\\r\\n* opening reception - sunday , september 9\\r\\n* golf tournament & tours of area attractions - monday , september 10\\r\\nthe hyatt regency hill country resort has a limited block of rooms available\\r\\nfor nesa / hea members and guests - be sure to check page 6 for lodging\\r\\ninformation and make your reservation as soon as possible .\\r\\nwe hope that you take this opportunity to meet with your colleagues and\\r\\ncustomers in this relaxing yet professional environment to exchange ideas on\\r\\nmatters of importance covering a broad spectrum of subjects . the annual\\r\\nmeeting agenda includes timely issues presented by knowledgeable industry\\r\\nleaders who will discuss formidable and thought provoking issues affecting\\r\\nthe energy industry today .\\r\\nplease take a moment to review the attached brochure . nesa / hea encourages\\r\\nand appreciates you taking the time to pass the brochure on to industry\\r\\npersonnel who would benefit from participating at this conference .\\r\\nnesa / hea \\' s 24 th annual meeting\\r\\neducating the energy professional\\r\\nto unsubscribe from the nesa / hea member email blast list please respond to\\r\\nthis email with the word unsubscribe typed into the subject field . this\\r\\nwill preclude you from receiving any email blasts in the future , but hard\\r\\ncopies of the material will be sent to your attention .\\r\\n>\\r\\n- 512 _ nesa 2001 annlmtgjam . pdf'"
      ]
     },
     "execution_count": 8,
     "metadata": {},
     "output_type": "execute_result"
    }
   ],
   "source": [
    "df_data[\"data\"][0]"
   ]
  },
  {
   "cell_type": "code",
   "execution_count": 9,
   "id": "0392922d",
   "metadata": {},
   "outputs": [
    {
     "data": {
      "text/plain": [
       "0.0"
      ]
     },
     "execution_count": 9,
     "metadata": {},
     "output_type": "execute_result"
    }
   ],
   "source": [
    "df_target[\"target\"][0]"
   ]
  },
  {
   "cell_type": "code",
   "execution_count": 10,
   "id": "b131bc0c",
   "metadata": {},
   "outputs": [
    {
     "data": {
      "image/png": "[encoded data removed]",
      "text/plain": [
       "<Figure size 432x288 with 1 Axes>"
      ]
     },
     "metadata": {
      "needs_background": "light"
     },
     "output_type": "display_data"
    }
   ],
   "source": [
    "%matplotlib inline\n",
    "\n",
    "plt.bar(Counter(y).keys(), Counter(y).values(),tick_label =('spam', 'ham'))\n",
    "plt.show;"
   ]
  },
  {
   "cell_type": "markdown",
   "id": "73f7f304",
   "metadata": {},
   "source": [
    "# Data Preprocessing"
   ]
  },
  {
   "cell_type": "code",
   "execution_count": 11,
   "id": "ad64d730",
   "metadata": {},
   "outputs": [
    {
     "data": {
      "text/html": [
       "<div>\n",
       "<style scoped>\n",
       "    .dataframe tbody tr th:only-of-type {\n",
       "        vertical-align: middle;\n",
       "    }\n",
       "\n",
       "    .dataframe tbody tr th {\n",
       "        vertical-align: top;\n",
       "    }\n",
       "\n",
       "    .dataframe thead th {\n",
       "        text-align: right;\n",
       "    }\n",
       "</style>\n",
       "<table border=\"1\" class=\"dataframe\">\n",
       "  <thead>\n",
       "    <tr style=\"text-align: right;\">\n",
       "      <th></th>\n",
       "      <th>data</th>\n",
       "      <th>clean_data_v1</th>\n",
       "    </tr>\n",
       "  </thead>\n",
       "  <tbody>\n",
       "    <tr>\n",
       "      <th>0</th>\n",
       "      <td>b'Subject: nesa / hea \\' s 24 th annual meetin...</td>\n",
       "      <td>Subject nesa hea 24 th annual meeting saddle u...</td>\n",
       "    </tr>\n",
       "    <tr>\n",
       "      <th>1</th>\n",
       "      <td>b'Subject: meter 1431 - nov 1999\\r\\ndaren -\\r\\...</td>\n",
       "      <td>Subject meter 1431 nov 1999 daren could you pl...</td>\n",
       "    </tr>\n",
       "    <tr>\n",
       "      <th>2</th>\n",
       "      <td>b\"Subject: investor here .\\r\\nfrom : mr . rich...</td>\n",
       "      <td>Subject investor here from mr richard mayer de...</td>\n",
       "    </tr>\n",
       "    <tr>\n",
       "      <th>3</th>\n",
       "      <td>b\"Subject: hi paliourg all available meds . av...</td>\n",
       "      <td>Subject hi paliourg all available meds availab...</td>\n",
       "    </tr>\n",
       "    <tr>\n",
       "      <th>4</th>\n",
       "      <td>b'Subject: january nominations at shell deer p...</td>\n",
       "      <td>Subject january nominations at shell deer park...</td>\n",
       "    </tr>\n",
       "  </tbody>\n",
       "</table>\n",
       "</div>"
      ],
      "text/plain": [
       "                                                data  \\\n",
       "0  b'Subject: nesa / hea \\' s 24 th annual meetin...   \n",
       "1  b'Subject: meter 1431 - nov 1999\\r\\ndaren -\\r\\...   \n",
       "2  b\"Subject: investor here .\\r\\nfrom : mr . rich...   \n",
       "3  b\"Subject: hi paliourg all available meds . av...   \n",
       "4  b'Subject: january nominations at shell deer p...   \n",
       "\n",
       "                                       clean_data_v1  \n",
       "0  Subject nesa hea 24 th annual meeting saddle u...  \n",
       "1  Subject meter 1431 nov 1999 daren could you pl...  \n",
       "2  Subject investor here from mr richard mayer de...  \n",
       "3  Subject hi paliourg all available meds availab...  \n",
       "4  Subject january nominations at shell deer park...  "
      ]
     },
     "execution_count": 11,
     "metadata": {},
     "output_type": "execute_result"
    }
   ],
   "source": [
    "# Remove unneccesary characters\n",
    "import re\n",
    "\n",
    "def remove_expression(text):\n",
    "    str_text = str(text)\n",
    "    str_text = re.sub(r'\\\\r\\\\n', ' ', str_text)\n",
    "    str_text = re.sub(r'\\W', ' ', str_text)\n",
    "    str_text = re.sub(r'\\s+[a-zA-Z]\\s+', ' ', str_text)\n",
    "    str_text = re.sub(r'\\^[a-zA-Z]\\s+', ' ', str_text) \n",
    "    str_text = re.sub(r'\\s+', ' ', str_text, flags=re.I)\n",
    "    str_text = re.sub(r'^b\\s+', '', str_text)\n",
    "    return str_text\n",
    "\n",
    "df_data[\"clean_data_v1\"] = df_data[\"data\"].apply(lambda x:remove_expression(x))\n",
    "df_data.head()"
   ]
  },
  {
   "cell_type": "code",
   "execution_count": 12,
   "id": "558f3afc",
   "metadata": {},
   "outputs": [
    {
     "data": {
      "text/html": [
       "<div>\n",
       "<style scoped>\n",
       "    .dataframe tbody tr th:only-of-type {\n",
       "        vertical-align: middle;\n",
       "    }\n",
       "\n",
       "    .dataframe tbody tr th {\n",
       "        vertical-align: top;\n",
       "    }\n",
       "\n",
       "    .dataframe thead th {\n",
       "        text-align: right;\n",
       "    }\n",
       "</style>\n",
       "<table border=\"1\" class=\"dataframe\">\n",
       "  <thead>\n",
       "    <tr style=\"text-align: right;\">\n",
       "      <th></th>\n",
       "      <th>data</th>\n",
       "      <th>clean_data_v1</th>\n",
       "      <th>clean_data_v2</th>\n",
       "    </tr>\n",
       "  </thead>\n",
       "  <tbody>\n",
       "    <tr>\n",
       "      <th>0</th>\n",
       "      <td>b'Subject: nesa / hea \\' s 24 th annual meetin...</td>\n",
       "      <td>Subject nesa hea 24 th annual meeting saddle u...</td>\n",
       "      <td>Subject nesa hea 24 th annual meeting saddle u...</td>\n",
       "    </tr>\n",
       "    <tr>\n",
       "      <th>1</th>\n",
       "      <td>b'Subject: meter 1431 - nov 1999\\r\\ndaren -\\r\\...</td>\n",
       "      <td>Subject meter 1431 nov 1999 daren could you pl...</td>\n",
       "      <td>Subject meter 1431 nov 1999 daren could you pl...</td>\n",
       "    </tr>\n",
       "    <tr>\n",
       "      <th>2</th>\n",
       "      <td>b\"Subject: investor here .\\r\\nfrom : mr . rich...</td>\n",
       "      <td>Subject investor here from mr richard mayer de...</td>\n",
       "      <td>Subject investor here from mr richard mayer de...</td>\n",
       "    </tr>\n",
       "    <tr>\n",
       "      <th>3</th>\n",
       "      <td>b\"Subject: hi paliourg all available meds . av...</td>\n",
       "      <td>Subject hi paliourg all available meds availab...</td>\n",
       "      <td>Subject hi paliourg all available meds availab...</td>\n",
       "    </tr>\n",
       "    <tr>\n",
       "      <th>4</th>\n",
       "      <td>b'Subject: january nominations at shell deer p...</td>\n",
       "      <td>Subject january nominations at shell deer park...</td>\n",
       "      <td>Subject january nominations at shell deer park...</td>\n",
       "    </tr>\n",
       "  </tbody>\n",
       "</table>\n",
       "</div>"
      ],
      "text/plain": [
       "                                                data  \\\n",
       "0  b'Subject: nesa / hea \\' s 24 th annual meetin...   \n",
       "1  b'Subject: meter 1431 - nov 1999\\r\\ndaren -\\r\\...   \n",
       "2  b\"Subject: investor here .\\r\\nfrom : mr . rich...   \n",
       "3  b\"Subject: hi paliourg all available meds . av...   \n",
       "4  b'Subject: january nominations at shell deer p...   \n",
       "\n",
       "                                       clean_data_v1  \\\n",
       "0  Subject nesa hea 24 th annual meeting saddle u...   \n",
       "1  Subject meter 1431 nov 1999 daren could you pl...   \n",
       "2  Subject investor here from mr richard mayer de...   \n",
       "3  Subject hi paliourg all available meds availab...   \n",
       "4  Subject january nominations at shell deer park...   \n",
       "\n",
       "                                       clean_data_v2  \n",
       "0  Subject nesa hea 24 th annual meeting saddle u...  \n",
       "1  Subject meter 1431 nov 1999 daren could you pl...  \n",
       "2  Subject investor here from mr richard mayer de...  \n",
       "3  Subject hi paliourg all available meds availab...  \n",
       "4  Subject january nominations at shell deer park...  "
      ]
     },
     "execution_count": 12,
     "metadata": {},
     "output_type": "execute_result"
    }
   ],
   "source": [
    "# Punctuation Removal: \n",
    "import string\n",
    "\n",
    "\n",
    "#defining the function to remove punctuation\n",
    "def remove_punctuation(text):\n",
    "    str_text = str(text)\n",
    "    punctuationfree=\"\".join([i for i in str_text if i not in string.punctuation])\n",
    "    return punctuationfree\n",
    "\n",
    "#storing the puntuation free text\n",
    "df_data[\"clean_data_v2\"] = df_data[\"clean_data_v1\"].apply(lambda x:remove_punctuation(x))\n",
    "df_data.head()\n"
   ]
  },
  {
   "cell_type": "code",
   "execution_count": 13,
   "id": "04f9886f",
   "metadata": {},
   "outputs": [
    {
     "data": {
      "text/html": [
       "<div>\n",
       "<style scoped>\n",
       "    .dataframe tbody tr th:only-of-type {\n",
       "        vertical-align: middle;\n",
       "    }\n",
       "\n",
       "    .dataframe tbody tr th {\n",
       "        vertical-align: top;\n",
       "    }\n",
       "\n",
       "    .dataframe thead th {\n",
       "        text-align: right;\n",
       "    }\n",
       "</style>\n",
       "<table border=\"1\" class=\"dataframe\">\n",
       "  <thead>\n",
       "    <tr style=\"text-align: right;\">\n",
       "      <th></th>\n",
       "      <th>data</th>\n",
       "      <th>clean_data_v1</th>\n",
       "      <th>clean_data_v2</th>\n",
       "      <th>clean_data_v3</th>\n",
       "    </tr>\n",
       "  </thead>\n",
       "  <tbody>\n",
       "    <tr>\n",
       "      <th>0</th>\n",
       "      <td>b'Subject: nesa / hea \\' s 24 th annual meetin...</td>\n",
       "      <td>Subject nesa hea 24 th annual meeting saddle u...</td>\n",
       "      <td>Subject nesa hea 24 th annual meeting saddle u...</td>\n",
       "      <td>subject nesa hea 24 th annual meeting saddle u...</td>\n",
       "    </tr>\n",
       "    <tr>\n",
       "      <th>1</th>\n",
       "      <td>b'Subject: meter 1431 - nov 1999\\r\\ndaren -\\r\\...</td>\n",
       "      <td>Subject meter 1431 nov 1999 daren could you pl...</td>\n",
       "      <td>Subject meter 1431 nov 1999 daren could you pl...</td>\n",
       "      <td>subject meter 1431 nov 1999 daren could you pl...</td>\n",
       "    </tr>\n",
       "    <tr>\n",
       "      <th>2</th>\n",
       "      <td>b\"Subject: investor here .\\r\\nfrom : mr . rich...</td>\n",
       "      <td>Subject investor here from mr richard mayer de...</td>\n",
       "      <td>Subject investor here from mr richard mayer de...</td>\n",
       "      <td>subject investor here from mr richard mayer de...</td>\n",
       "    </tr>\n",
       "    <tr>\n",
       "      <th>3</th>\n",
       "      <td>b\"Subject: hi paliourg all available meds . av...</td>\n",
       "      <td>Subject hi paliourg all available meds availab...</td>\n",
       "      <td>Subject hi paliourg all available meds availab...</td>\n",
       "      <td>subject hi paliourg all available meds availab...</td>\n",
       "    </tr>\n",
       "    <tr>\n",
       "      <th>4</th>\n",
       "      <td>b'Subject: january nominations at shell deer p...</td>\n",
       "      <td>Subject january nominations at shell deer park...</td>\n",
       "      <td>Subject january nominations at shell deer park...</td>\n",
       "      <td>subject january nominations at shell deer park...</td>\n",
       "    </tr>\n",
       "  </tbody>\n",
       "</table>\n",
       "</div>"
      ],
      "text/plain": [
       "                                                data  \\\n",
       "0  b'Subject: nesa / hea \\' s 24 th annual meetin...   \n",
       "1  b'Subject: meter 1431 - nov 1999\\r\\ndaren -\\r\\...   \n",
       "2  b\"Subject: investor here .\\r\\nfrom : mr . rich...   \n",
       "3  b\"Subject: hi paliourg all available meds . av...   \n",
       "4  b'Subject: january nominations at shell deer p...   \n",
       "\n",
       "                                       clean_data_v1  \\\n",
       "0  Subject nesa hea 24 th annual meeting saddle u...   \n",
       "1  Subject meter 1431 nov 1999 daren could you pl...   \n",
       "2  Subject investor here from mr richard mayer de...   \n",
       "3  Subject hi paliourg all available meds availab...   \n",
       "4  Subject january nominations at shell deer park...   \n",
       "\n",
       "                                       clean_data_v2  \\\n",
       "0  Subject nesa hea 24 th annual meeting saddle u...   \n",
       "1  Subject meter 1431 nov 1999 daren could you pl...   \n",
       "2  Subject investor here from mr richard mayer de...   \n",
       "3  Subject hi paliourg all available meds availab...   \n",
       "4  Subject january nominations at shell deer park...   \n",
       "\n",
       "                                       clean_data_v3  \n",
       "0  subject nesa hea 24 th annual meeting saddle u...  \n",
       "1  subject meter 1431 nov 1999 daren could you pl...  \n",
       "2  subject investor here from mr richard mayer de...  \n",
       "3  subject hi paliourg all available meds availab...  \n",
       "4  subject january nominations at shell deer park...  "
      ]
     },
     "execution_count": 13,
     "metadata": {},
     "output_type": "execute_result"
    }
   ],
   "source": [
    "# Lowering the text\n",
    "df_data['clean_data_v3']= df_data['clean_data_v2'].apply(lambda x: x.lower())\n",
    "df_data.head()"
   ]
  },
  {
   "cell_type": "code",
   "execution_count": 14,
   "id": "45e45eb3",
   "metadata": {},
   "outputs": [
    {
     "data": {
      "text/html": [
       "<div>\n",
       "<style scoped>\n",
       "    .dataframe tbody tr th:only-of-type {\n",
       "        vertical-align: middle;\n",
       "    }\n",
       "\n",
       "    .dataframe tbody tr th {\n",
       "        vertical-align: top;\n",
       "    }\n",
       "\n",
       "    .dataframe thead th {\n",
       "        text-align: right;\n",
       "    }\n",
       "</style>\n",
       "<table border=\"1\" class=\"dataframe\">\n",
       "  <thead>\n",
       "    <tr style=\"text-align: right;\">\n",
       "      <th></th>\n",
       "      <th>data</th>\n",
       "      <th>clean_data_v1</th>\n",
       "      <th>clean_data_v2</th>\n",
       "      <th>clean_data_v3</th>\n",
       "      <th>clean_data_v4</th>\n",
       "    </tr>\n",
       "  </thead>\n",
       "  <tbody>\n",
       "    <tr>\n",
       "      <th>0</th>\n",
       "      <td>b'Subject: nesa / hea \\' s 24 th annual meetin...</td>\n",
       "      <td>Subject nesa hea 24 th annual meeting saddle u...</td>\n",
       "      <td>Subject nesa hea 24 th annual meeting saddle u...</td>\n",
       "      <td>subject nesa hea 24 th annual meeting saddle u...</td>\n",
       "      <td>[subject, nesa, hea, 24, th, annual, meeting, ...</td>\n",
       "    </tr>\n",
       "    <tr>\n",
       "      <th>1</th>\n",
       "      <td>b'Subject: meter 1431 - nov 1999\\r\\ndaren -\\r\\...</td>\n",
       "      <td>Subject meter 1431 nov 1999 daren could you pl...</td>\n",
       "      <td>Subject meter 1431 nov 1999 daren could you pl...</td>\n",
       "      <td>subject meter 1431 nov 1999 daren could you pl...</td>\n",
       "      <td>[subject, meter, 1431, nov, 1999, daren, could...</td>\n",
       "    </tr>\n",
       "    <tr>\n",
       "      <th>2</th>\n",
       "      <td>b\"Subject: investor here .\\r\\nfrom : mr . rich...</td>\n",
       "      <td>Subject investor here from mr richard mayer de...</td>\n",
       "      <td>Subject investor here from mr richard mayer de...</td>\n",
       "      <td>subject investor here from mr richard mayer de...</td>\n",
       "      <td>[subject, investor, here, from, mr, richard, m...</td>\n",
       "    </tr>\n",
       "    <tr>\n",
       "      <th>3</th>\n",
       "      <td>b\"Subject: hi paliourg all available meds . av...</td>\n",
       "      <td>Subject hi paliourg all available meds availab...</td>\n",
       "      <td>Subject hi paliourg all available meds availab...</td>\n",
       "      <td>subject hi paliourg all available meds availab...</td>\n",
       "      <td>[subject, hi, paliourg, all, available, meds, ...</td>\n",
       "    </tr>\n",
       "    <tr>\n",
       "      <th>4</th>\n",
       "      <td>b'Subject: january nominations at shell deer p...</td>\n",
       "      <td>Subject january nominations at shell deer park...</td>\n",
       "      <td>Subject january nominations at shell deer park...</td>\n",
       "      <td>subject january nominations at shell deer park...</td>\n",
       "      <td>[subject, january, nominations, at, shell, dee...</td>\n",
       "    </tr>\n",
       "  </tbody>\n",
       "</table>\n",
       "</div>"
      ],
      "text/plain": [
       "                                                data  \\\n",
       "0  b'Subject: nesa / hea \\' s 24 th annual meetin...   \n",
       "1  b'Subject: meter 1431 - nov 1999\\r\\ndaren -\\r\\...   \n",
       "2  b\"Subject: investor here .\\r\\nfrom : mr . rich...   \n",
       "3  b\"Subject: hi paliourg all available meds . av...   \n",
       "4  b'Subject: january nominations at shell deer p...   \n",
       "\n",
       "                                       clean_data_v1  \\\n",
       "0  Subject nesa hea 24 th annual meeting saddle u...   \n",
       "1  Subject meter 1431 nov 1999 daren could you pl...   \n",
       "2  Subject investor here from mr richard mayer de...   \n",
       "3  Subject hi paliourg all available meds availab...   \n",
       "4  Subject january nominations at shell deer park...   \n",
       "\n",
       "                                       clean_data_v2  \\\n",
       "0  Subject nesa hea 24 th annual meeting saddle u...   \n",
       "1  Subject meter 1431 nov 1999 daren could you pl...   \n",
       "2  Subject investor here from mr richard mayer de...   \n",
       "3  Subject hi paliourg all available meds availab...   \n",
       "4  Subject january nominations at shell deer park...   \n",
       "\n",
       "                                       clean_data_v3  \\\n",
       "0  subject nesa hea 24 th annual meeting saddle u...   \n",
       "1  subject meter 1431 nov 1999 daren could you pl...   \n",
       "2  subject investor here from mr richard mayer de...   \n",
       "3  subject hi paliourg all available meds availab...   \n",
       "4  subject january nominations at shell deer park...   \n",
       "\n",
       "                                       clean_data_v4  \n",
       "0  [subject, nesa, hea, 24, th, annual, meeting, ...  \n",
       "1  [subject, meter, 1431, nov, 1999, daren, could...  \n",
       "2  [subject, investor, here, from, mr, richard, m...  \n",
       "3  [subject, hi, paliourg, all, available, meds, ...  \n",
       "4  [subject, january, nominations, at, shell, dee...  "
      ]
     },
     "execution_count": 14,
     "metadata": {},
     "output_type": "execute_result"
    }
   ],
   "source": [
    "#Tokenization\n",
    "\n",
    "#defining function for tokenization\n",
    "def tokenization(text):\n",
    "    tokens = re.split(' ',text)\n",
    "    return tokens\n",
    "\n",
    "#applying function to the column\n",
    "df_data['clean_data_v4']= df_data['clean_data_v3'].apply(lambda x: tokenization(x))\n",
    "\n",
    "df_data.head()"
   ]
  },
  {
   "cell_type": "code",
   "execution_count": 15,
   "id": "cd55557a",
   "metadata": {},
   "outputs": [
    {
     "name": "stderr",
     "output_type": "stream",
     "text": [
      "[nltk_data] Downloading package stopwords to\n",
      "[nltk_data]     /Users/s-verma/nltk_data...\n",
      "[nltk_data]   Package stopwords is already up-to-date!\n"
     ]
    },
    {
     "data": {
      "text/plain": [
       "['i', 'me', 'my', 'myself', 'we', 'our', 'ours', 'ourselves', 'you', \"you're\"]"
      ]
     },
     "execution_count": 15,
     "metadata": {},
     "output_type": "execute_result"
    }
   ],
   "source": [
    "#Stop words removal\n",
    "import nltk\n",
    "#Stop words present in the library\n",
    "nltk.download('stopwords')\n",
    "stopwords = nltk.corpus.stopwords.words('english')\n",
    "stopwords[0:10]"
   ]
  },
  {
   "cell_type": "code",
   "execution_count": 16,
   "id": "85da28ac",
   "metadata": {},
   "outputs": [],
   "source": [
    "#defining the function to remove stopwords from tokenized text\n",
    "def remove_stopwords(text):\n",
    "    output= [i for i in text if i not in stopwords]\n",
    "    return output"
   ]
  },
  {
   "cell_type": "code",
   "execution_count": 17,
   "id": "7ce575e7",
   "metadata": {},
   "outputs": [
    {
     "data": {
      "text/html": [
       "<div>\n",
       "<style scoped>\n",
       "    .dataframe tbody tr th:only-of-type {\n",
       "        vertical-align: middle;\n",
       "    }\n",
       "\n",
       "    .dataframe tbody tr th {\n",
       "        vertical-align: top;\n",
       "    }\n",
       "\n",
       "    .dataframe thead th {\n",
       "        text-align: right;\n",
       "    }\n",
       "</style>\n",
       "<table border=\"1\" class=\"dataframe\">\n",
       "  <thead>\n",
       "    <tr style=\"text-align: right;\">\n",
       "      <th></th>\n",
       "      <th>data</th>\n",
       "      <th>clean_data_v1</th>\n",
       "      <th>clean_data_v2</th>\n",
       "      <th>clean_data_v3</th>\n",
       "      <th>clean_data_v4</th>\n",
       "      <th>clean_data_v5</th>\n",
       "    </tr>\n",
       "  </thead>\n",
       "  <tbody>\n",
       "    <tr>\n",
       "      <th>0</th>\n",
       "      <td>b'Subject: nesa / hea \\' s 24 th annual meetin...</td>\n",
       "      <td>Subject nesa hea 24 th annual meeting saddle u...</td>\n",
       "      <td>Subject nesa hea 24 th annual meeting saddle u...</td>\n",
       "      <td>subject nesa hea 24 th annual meeting saddle u...</td>\n",
       "      <td>[subject, nesa, hea, 24, th, annual, meeting, ...</td>\n",
       "      <td>[subject, nesa, hea, 24, th, annual, meeting, ...</td>\n",
       "    </tr>\n",
       "    <tr>\n",
       "      <th>1</th>\n",
       "      <td>b'Subject: meter 1431 - nov 1999\\r\\ndaren -\\r\\...</td>\n",
       "      <td>Subject meter 1431 nov 1999 daren could you pl...</td>\n",
       "      <td>Subject meter 1431 nov 1999 daren could you pl...</td>\n",
       "      <td>subject meter 1431 nov 1999 daren could you pl...</td>\n",
       "      <td>[subject, meter, 1431, nov, 1999, daren, could...</td>\n",
       "      <td>[subject, meter, 1431, nov, 1999, daren, could...</td>\n",
       "    </tr>\n",
       "    <tr>\n",
       "      <th>2</th>\n",
       "      <td>b\"Subject: investor here .\\r\\nfrom : mr . rich...</td>\n",
       "      <td>Subject investor here from mr richard mayer de...</td>\n",
       "      <td>Subject investor here from mr richard mayer de...</td>\n",
       "      <td>subject investor here from mr richard mayer de...</td>\n",
       "      <td>[subject, investor, here, from, mr, richard, m...</td>\n",
       "      <td>[subject, investor, mr, richard, mayer, dear, ...</td>\n",
       "    </tr>\n",
       "    <tr>\n",
       "      <th>3</th>\n",
       "      <td>b\"Subject: hi paliourg all available meds . av...</td>\n",
       "      <td>Subject hi paliourg all available meds availab...</td>\n",
       "      <td>Subject hi paliourg all available meds availab...</td>\n",
       "      <td>subject hi paliourg all available meds availab...</td>\n",
       "      <td>[subject, hi, paliourg, all, available, meds, ...</td>\n",
       "      <td>[subject, hi, paliourg, available, meds, avail...</td>\n",
       "    </tr>\n",
       "    <tr>\n",
       "      <th>4</th>\n",
       "      <td>b'Subject: january nominations at shell deer p...</td>\n",
       "      <td>Subject january nominations at shell deer park...</td>\n",
       "      <td>Subject january nominations at shell deer park...</td>\n",
       "      <td>subject january nominations at shell deer park...</td>\n",
       "      <td>[subject, january, nominations, at, shell, dee...</td>\n",
       "      <td>[subject, january, nominations, shell, deer, p...</td>\n",
       "    </tr>\n",
       "  </tbody>\n",
       "</table>\n",
       "</div>"
      ],
      "text/plain": [
       "                                                data  \\\n",
       "0  b'Subject: nesa / hea \\' s 24 th annual meetin...   \n",
       "1  b'Subject: meter 1431 - nov 1999\\r\\ndaren -\\r\\...   \n",
       "2  b\"Subject: investor here .\\r\\nfrom : mr . rich...   \n",
       "3  b\"Subject: hi paliourg all available meds . av...   \n",
       "4  b'Subject: january nominations at shell deer p...   \n",
       "\n",
       "                                       clean_data_v1  \\\n",
       "0  Subject nesa hea 24 th annual meeting saddle u...   \n",
       "1  Subject meter 1431 nov 1999 daren could you pl...   \n",
       "2  Subject investor here from mr richard mayer de...   \n",
       "3  Subject hi paliourg all available meds availab...   \n",
       "4  Subject january nominations at shell deer park...   \n",
       "\n",
       "                                       clean_data_v2  \\\n",
       "0  Subject nesa hea 24 th annual meeting saddle u...   \n",
       "1  Subject meter 1431 nov 1999 daren could you pl...   \n",
       "2  Subject investor here from mr richard mayer de...   \n",
       "3  Subject hi paliourg all available meds availab...   \n",
       "4  Subject january nominations at shell deer park...   \n",
       "\n",
       "                                       clean_data_v3  \\\n",
       "0  subject nesa hea 24 th annual meeting saddle u...   \n",
       "1  subject meter 1431 nov 1999 daren could you pl...   \n",
       "2  subject investor here from mr richard mayer de...   \n",
       "3  subject hi paliourg all available meds availab...   \n",
       "4  subject january nominations at shell deer park...   \n",
       "\n",
       "                                       clean_data_v4  \\\n",
       "0  [subject, nesa, hea, 24, th, annual, meeting, ...   \n",
       "1  [subject, meter, 1431, nov, 1999, daren, could...   \n",
       "2  [subject, investor, here, from, mr, richard, m...   \n",
       "3  [subject, hi, paliourg, all, available, meds, ...   \n",
       "4  [subject, january, nominations, at, shell, dee...   \n",
       "\n",
       "                                       clean_data_v5  \n",
       "0  [subject, nesa, hea, 24, th, annual, meeting, ...  \n",
       "1  [subject, meter, 1431, nov, 1999, daren, could...  \n",
       "2  [subject, investor, mr, richard, mayer, dear, ...  \n",
       "3  [subject, hi, paliourg, available, meds, avail...  \n",
       "4  [subject, january, nominations, shell, deer, p...  "
      ]
     },
     "execution_count": 17,
     "metadata": {},
     "output_type": "execute_result"
    }
   ],
   "source": [
    "#applying the function\n",
    "df_data['clean_data_v5']= df_data['clean_data_v4'].apply(lambda x:remove_stopwords(x))\n",
    "df_data.head()"
   ]
  },
  {
   "cell_type": "code",
   "execution_count": 18,
   "id": "fc9d018c",
   "metadata": {},
   "outputs": [],
   "source": [
    "#Stemming \n",
    "\n",
    "#importing the Stemming function from nltk library\n",
    "from nltk.stem.porter import PorterStemmer\n",
    "#defining the object for stemming\n",
    "porter_stemmer = PorterStemmer()\n",
    "\n",
    "#defining a function for stemming\n",
    "def stemming(text):\n",
    "    stem_text = [porter_stemmer.stem(word) for word in text]\n",
    "    return stem_text\n",
    "\n",
    "df_data['clean_data_v6']=df_data['clean_data_v5'].apply(lambda x: stemming(x))"
   ]
  },
  {
   "cell_type": "code",
   "execution_count": 19,
   "id": "70e99956",
   "metadata": {},
   "outputs": [
    {
     "data": {
      "text/html": [
       "<div>\n",
       "<style scoped>\n",
       "    .dataframe tbody tr th:only-of-type {\n",
       "        vertical-align: middle;\n",
       "    }\n",
       "\n",
       "    .dataframe tbody tr th {\n",
       "        vertical-align: top;\n",
       "    }\n",
       "\n",
       "    .dataframe thead th {\n",
       "        text-align: right;\n",
       "    }\n",
       "</style>\n",
       "<table border=\"1\" class=\"dataframe\">\n",
       "  <thead>\n",
       "    <tr style=\"text-align: right;\">\n",
       "      <th></th>\n",
       "      <th>data</th>\n",
       "      <th>clean_data_v1</th>\n",
       "      <th>clean_data_v2</th>\n",
       "      <th>clean_data_v3</th>\n",
       "      <th>clean_data_v4</th>\n",
       "      <th>clean_data_v5</th>\n",
       "      <th>clean_data_v6</th>\n",
       "    </tr>\n",
       "  </thead>\n",
       "  <tbody>\n",
       "    <tr>\n",
       "      <th>0</th>\n",
       "      <td>b'Subject: nesa / hea \\' s 24 th annual meetin...</td>\n",
       "      <td>Subject nesa hea 24 th annual meeting saddle u...</td>\n",
       "      <td>Subject nesa hea 24 th annual meeting saddle u...</td>\n",
       "      <td>subject nesa hea 24 th annual meeting saddle u...</td>\n",
       "      <td>[subject, nesa, hea, 24, th, annual, meeting, ...</td>\n",
       "      <td>[subject, nesa, hea, 24, th, annual, meeting, ...</td>\n",
       "      <td>[subject, nesa, hea, 24, th, annual, meet, sad...</td>\n",
       "    </tr>\n",
       "    <tr>\n",
       "      <th>1</th>\n",
       "      <td>b'Subject: meter 1431 - nov 1999\\r\\ndaren -\\r\\...</td>\n",
       "      <td>Subject meter 1431 nov 1999 daren could you pl...</td>\n",
       "      <td>Subject meter 1431 nov 1999 daren could you pl...</td>\n",
       "      <td>subject meter 1431 nov 1999 daren could you pl...</td>\n",
       "      <td>[subject, meter, 1431, nov, 1999, daren, could...</td>\n",
       "      <td>[subject, meter, 1431, nov, 1999, daren, could...</td>\n",
       "      <td>[subject, meter, 1431, nov, 1999, daren, could...</td>\n",
       "    </tr>\n",
       "    <tr>\n",
       "      <th>2</th>\n",
       "      <td>b\"Subject: investor here .\\r\\nfrom : mr . rich...</td>\n",
       "      <td>Subject investor here from mr richard mayer de...</td>\n",
       "      <td>Subject investor here from mr richard mayer de...</td>\n",
       "      <td>subject investor here from mr richard mayer de...</td>\n",
       "      <td>[subject, investor, here, from, mr, richard, m...</td>\n",
       "      <td>[subject, investor, mr, richard, mayer, dear, ...</td>\n",
       "      <td>[subject, investor, mr, richard, mayer, dear, ...</td>\n",
       "    </tr>\n",
       "    <tr>\n",
       "      <th>3</th>\n",
       "      <td>b\"Subject: hi paliourg all available meds . av...</td>\n",
       "      <td>Subject hi paliourg all available meds availab...</td>\n",
       "      <td>Subject hi paliourg all available meds availab...</td>\n",
       "      <td>subject hi paliourg all available meds availab...</td>\n",
       "      <td>[subject, hi, paliourg, all, available, meds, ...</td>\n",
       "      <td>[subject, hi, paliourg, available, meds, avail...</td>\n",
       "      <td>[subject, hi, paliourg, avail, med, avail, bin...</td>\n",
       "    </tr>\n",
       "    <tr>\n",
       "      <th>4</th>\n",
       "      <td>b'Subject: january nominations at shell deer p...</td>\n",
       "      <td>Subject january nominations at shell deer park...</td>\n",
       "      <td>Subject january nominations at shell deer park...</td>\n",
       "      <td>subject january nominations at shell deer park...</td>\n",
       "      <td>[subject, january, nominations, at, shell, dee...</td>\n",
       "      <td>[subject, january, nominations, shell, deer, p...</td>\n",
       "      <td>[subject, januari, nomin, shell, deer, park, f...</td>\n",
       "    </tr>\n",
       "  </tbody>\n",
       "</table>\n",
       "</div>"
      ],
      "text/plain": [
       "                                                data  \\\n",
       "0  b'Subject: nesa / hea \\' s 24 th annual meetin...   \n",
       "1  b'Subject: meter 1431 - nov 1999\\r\\ndaren -\\r\\...   \n",
       "2  b\"Subject: investor here .\\r\\nfrom : mr . rich...   \n",
       "3  b\"Subject: hi paliourg all available meds . av...   \n",
       "4  b'Subject: january nominations at shell deer p...   \n",
       "\n",
       "                                       clean_data_v1  \\\n",
       "0  Subject nesa hea 24 th annual meeting saddle u...   \n",
       "1  Subject meter 1431 nov 1999 daren could you pl...   \n",
       "2  Subject investor here from mr richard mayer de...   \n",
       "3  Subject hi paliourg all available meds availab...   \n",
       "4  Subject january nominations at shell deer park...   \n",
       "\n",
       "                                       clean_data_v2  \\\n",
       "0  Subject nesa hea 24 th annual meeting saddle u...   \n",
       "1  Subject meter 1431 nov 1999 daren could you pl...   \n",
       "2  Subject investor here from mr richard mayer de...   \n",
       "3  Subject hi paliourg all available meds availab...   \n",
       "4  Subject january nominations at shell deer park...   \n",
       "\n",
       "                                       clean_data_v3  \\\n",
       "0  subject nesa hea 24 th annual meeting saddle u...   \n",
       "1  subject meter 1431 nov 1999 daren could you pl...   \n",
       "2  subject investor here from mr richard mayer de...   \n",
       "3  subject hi paliourg all available meds availab...   \n",
       "4  subject january nominations at shell deer park...   \n",
       "\n",
       "                                       clean_data_v4  \\\n",
       "0  [subject, nesa, hea, 24, th, annual, meeting, ...   \n",
       "1  [subject, meter, 1431, nov, 1999, daren, could...   \n",
       "2  [subject, investor, here, from, mr, richard, m...   \n",
       "3  [subject, hi, paliourg, all, available, meds, ...   \n",
       "4  [subject, january, nominations, at, shell, dee...   \n",
       "\n",
       "                                       clean_data_v5  \\\n",
       "0  [subject, nesa, hea, 24, th, annual, meeting, ...   \n",
       "1  [subject, meter, 1431, nov, 1999, daren, could...   \n",
       "2  [subject, investor, mr, richard, mayer, dear, ...   \n",
       "3  [subject, hi, paliourg, available, meds, avail...   \n",
       "4  [subject, january, nominations, shell, deer, p...   \n",
       "\n",
       "                                       clean_data_v6  \n",
       "0  [subject, nesa, hea, 24, th, annual, meet, sad...  \n",
       "1  [subject, meter, 1431, nov, 1999, daren, could...  \n",
       "2  [subject, investor, mr, richard, mayer, dear, ...  \n",
       "3  [subject, hi, paliourg, avail, med, avail, bin...  \n",
       "4  [subject, januari, nomin, shell, deer, park, f...  "
      ]
     },
     "execution_count": 19,
     "metadata": {},
     "output_type": "execute_result"
    }
   ],
   "source": [
    "df_data.head()"
   ]
  },
  {
   "cell_type": "code",
   "execution_count": 20,
   "id": "e12ac964",
   "metadata": {},
   "outputs": [
    {
     "data": {
      "text/html": [
       "<div>\n",
       "<style scoped>\n",
       "    .dataframe tbody tr th:only-of-type {\n",
       "        vertical-align: middle;\n",
       "    }\n",
       "\n",
       "    .dataframe tbody tr th {\n",
       "        vertical-align: top;\n",
       "    }\n",
       "\n",
       "    .dataframe thead th {\n",
       "        text-align: right;\n",
       "    }\n",
       "</style>\n",
       "<table border=\"1\" class=\"dataframe\">\n",
       "  <thead>\n",
       "    <tr style=\"text-align: right;\">\n",
       "      <th></th>\n",
       "      <th>data</th>\n",
       "      <th>clean_data_v1</th>\n",
       "      <th>clean_data_v2</th>\n",
       "      <th>clean_data_v3</th>\n",
       "      <th>clean_data_v4</th>\n",
       "      <th>clean_data_v5</th>\n",
       "      <th>clean_data_v6</th>\n",
       "      <th>final_data</th>\n",
       "    </tr>\n",
       "  </thead>\n",
       "  <tbody>\n",
       "    <tr>\n",
       "      <th>0</th>\n",
       "      <td>b'Subject: nesa / hea \\' s 24 th annual meetin...</td>\n",
       "      <td>Subject nesa hea 24 th annual meeting saddle u...</td>\n",
       "      <td>Subject nesa hea 24 th annual meeting saddle u...</td>\n",
       "      <td>subject nesa hea 24 th annual meeting saddle u...</td>\n",
       "      <td>[subject, nesa, hea, 24, th, annual, meeting, ...</td>\n",
       "      <td>[subject, nesa, hea, 24, th, annual, meeting, ...</td>\n",
       "      <td>[subject, nesa, hea, 24, th, annual, meet, sad...</td>\n",
       "      <td>subject nesa hea 24 th annual meet saddl nesa ...</td>\n",
       "    </tr>\n",
       "    <tr>\n",
       "      <th>1</th>\n",
       "      <td>b'Subject: meter 1431 - nov 1999\\r\\ndaren -\\r\\...</td>\n",
       "      <td>Subject meter 1431 nov 1999 daren could you pl...</td>\n",
       "      <td>Subject meter 1431 nov 1999 daren could you pl...</td>\n",
       "      <td>subject meter 1431 nov 1999 daren could you pl...</td>\n",
       "      <td>[subject, meter, 1431, nov, 1999, daren, could...</td>\n",
       "      <td>[subject, meter, 1431, nov, 1999, daren, could...</td>\n",
       "      <td>[subject, meter, 1431, nov, 1999, daren, could...</td>\n",
       "      <td>subject meter 1431 nov 1999 daren could pleas ...</td>\n",
       "    </tr>\n",
       "    <tr>\n",
       "      <th>2</th>\n",
       "      <td>b\"Subject: investor here .\\r\\nfrom : mr . rich...</td>\n",
       "      <td>Subject investor here from mr richard mayer de...</td>\n",
       "      <td>Subject investor here from mr richard mayer de...</td>\n",
       "      <td>subject investor here from mr richard mayer de...</td>\n",
       "      <td>[subject, investor, here, from, mr, richard, m...</td>\n",
       "      <td>[subject, investor, mr, richard, mayer, dear, ...</td>\n",
       "      <td>[subject, investor, mr, richard, mayer, dear, ...</td>\n",
       "      <td>subject investor mr richard mayer dear friend ...</td>\n",
       "    </tr>\n",
       "    <tr>\n",
       "      <th>3</th>\n",
       "      <td>b\"Subject: hi paliourg all available meds . av...</td>\n",
       "      <td>Subject hi paliourg all available meds availab...</td>\n",
       "      <td>Subject hi paliourg all available meds availab...</td>\n",
       "      <td>subject hi paliourg all available meds availab...</td>\n",
       "      <td>[subject, hi, paliourg, all, available, meds, ...</td>\n",
       "      <td>[subject, hi, paliourg, available, meds, avail...</td>\n",
       "      <td>[subject, hi, paliourg, avail, med, avail, bin...</td>\n",
       "      <td>subject hi paliourg avail med avail binaur cvo...</td>\n",
       "    </tr>\n",
       "    <tr>\n",
       "      <th>4</th>\n",
       "      <td>b'Subject: january nominations at shell deer p...</td>\n",
       "      <td>Subject january nominations at shell deer park...</td>\n",
       "      <td>Subject january nominations at shell deer park...</td>\n",
       "      <td>subject january nominations at shell deer park...</td>\n",
       "      <td>[subject, january, nominations, at, shell, dee...</td>\n",
       "      <td>[subject, january, nominations, shell, deer, p...</td>\n",
       "      <td>[subject, januari, nomin, shell, deer, park, f...</td>\n",
       "      <td>subject januari nomin shell deer park fyi requ...</td>\n",
       "    </tr>\n",
       "  </tbody>\n",
       "</table>\n",
       "</div>"
      ],
      "text/plain": [
       "                                                data  \\\n",
       "0  b'Subject: nesa / hea \\' s 24 th annual meetin...   \n",
       "1  b'Subject: meter 1431 - nov 1999\\r\\ndaren -\\r\\...   \n",
       "2  b\"Subject: investor here .\\r\\nfrom : mr . rich...   \n",
       "3  b\"Subject: hi paliourg all available meds . av...   \n",
       "4  b'Subject: january nominations at shell deer p...   \n",
       "\n",
       "                                       clean_data_v1  \\\n",
       "0  Subject nesa hea 24 th annual meeting saddle u...   \n",
       "1  Subject meter 1431 nov 1999 daren could you pl...   \n",
       "2  Subject investor here from mr richard mayer de...   \n",
       "3  Subject hi paliourg all available meds availab...   \n",
       "4  Subject january nominations at shell deer park...   \n",
       "\n",
       "                                       clean_data_v2  \\\n",
       "0  Subject nesa hea 24 th annual meeting saddle u...   \n",
       "1  Subject meter 1431 nov 1999 daren could you pl...   \n",
       "2  Subject investor here from mr richard mayer de...   \n",
       "3  Subject hi paliourg all available meds availab...   \n",
       "4  Subject january nominations at shell deer park...   \n",
       "\n",
       "                                       clean_data_v3  \\\n",
       "0  subject nesa hea 24 th annual meeting saddle u...   \n",
       "1  subject meter 1431 nov 1999 daren could you pl...   \n",
       "2  subject investor here from mr richard mayer de...   \n",
       "3  subject hi paliourg all available meds availab...   \n",
       "4  subject january nominations at shell deer park...   \n",
       "\n",
       "                                       clean_data_v4  \\\n",
       "0  [subject, nesa, hea, 24, th, annual, meeting, ...   \n",
       "1  [subject, meter, 1431, nov, 1999, daren, could...   \n",
       "2  [subject, investor, here, from, mr, richard, m...   \n",
       "3  [subject, hi, paliourg, all, available, meds, ...   \n",
       "4  [subject, january, nominations, at, shell, dee...   \n",
       "\n",
       "                                       clean_data_v5  \\\n",
       "0  [subject, nesa, hea, 24, th, annual, meeting, ...   \n",
       "1  [subject, meter, 1431, nov, 1999, daren, could...   \n",
       "2  [subject, investor, mr, richard, mayer, dear, ...   \n",
       "3  [subject, hi, paliourg, available, meds, avail...   \n",
       "4  [subject, january, nominations, shell, deer, p...   \n",
       "\n",
       "                                       clean_data_v6  \\\n",
       "0  [subject, nesa, hea, 24, th, annual, meet, sad...   \n",
       "1  [subject, meter, 1431, nov, 1999, daren, could...   \n",
       "2  [subject, investor, mr, richard, mayer, dear, ...   \n",
       "3  [subject, hi, paliourg, avail, med, avail, bin...   \n",
       "4  [subject, januari, nomin, shell, deer, park, f...   \n",
       "\n",
       "                                          final_data  \n",
       "0  subject nesa hea 24 th annual meet saddl nesa ...  \n",
       "1  subject meter 1431 nov 1999 daren could pleas ...  \n",
       "2  subject investor mr richard mayer dear friend ...  \n",
       "3  subject hi paliourg avail med avail binaur cvo...  \n",
       "4  subject januari nomin shell deer park fyi requ...  "
      ]
     },
     "execution_count": 20,
     "metadata": {},
     "output_type": "execute_result"
    }
   ],
   "source": [
    "#join tokens\n",
    "\n",
    "#defining the function to remove punctuation\n",
    "def join_tokens(text):\n",
    "    joinedStr=\" \".join([i for i in text])\n",
    "    return joinedStr\n",
    "\n",
    "df_data['final_data']=df_data['clean_data_v6'].apply(lambda x: join_tokens(x))\n",
    "df_data.head()\n"
   ]
  },
  {
   "cell_type": "code",
   "execution_count": 21,
   "id": "35ab809c",
   "metadata": {},
   "outputs": [],
   "source": [
    "# Train Test Split\n",
    "X_train, X_test, y_train, y_test = train_test_split(df_data['final_data'], df_target['target'], test_size=0.3)"
   ]
  },
  {
   "cell_type": "markdown",
   "id": "22a1bb0d",
   "metadata": {},
   "source": [
    "## Model Training"
   ]
  },
  {
   "cell_type": "code",
   "execution_count": 22,
   "id": "9dea1df5",
   "metadata": {},
   "outputs": [
    {
     "name": "stdout",
     "output_type": "stream",
     "text": [
      "Training Accuracy: 99.02%\n",
      "Test Accuracy: 98.49%\n",
      "\n"
     ]
    }
   ],
   "source": [
    "\n",
    "from sklearn.pipeline import Pipeline\n",
    "from sklearn.feature_extraction.text import TfidfVectorizer\n",
    "from sklearn.naive_bayes import MultinomialNB\n",
    "from sklearn.metrics import accuracy_score\n",
    "\n",
    "clf_pipeline = Pipeline([\n",
    "    ('tfidf_vectorizer', TfidfVectorizer()),\n",
    "    ('classificador', MultinomialNB())])\n",
    "\n",
    "clf_pipeline.fit(X_train, y_train)\n",
    "predictions = clf_pipeline.predict(X_train)\n",
    "score = accuracy_score(y_train,predictions)\n",
    "print(f\"Training Accuracy: {score*100:.2f}%\")\n",
    "\n",
    "predictions_test = clf_pipeline.predict(X_test)\n",
    "score = accuracy_score(y_test, predictions_test)\n",
    "print(f\"Test Accuracy: {score*100:.2f}%\")\n",
    "print()"
   ]
  },
  {
   "cell_type": "markdown",
   "id": "975d8c51",
   "metadata": {},
   "source": [
    "## Evaluation"
   ]
  },
  {
   "cell_type": "code",
   "execution_count": 23,
   "id": "f4ac4e2c",
   "metadata": {},
   "outputs": [
    {
     "name": "stdout",
     "output_type": "stream",
     "text": [
      "precision : 0.9862216184746749\n",
      "recall : 0.9841208365608056\n"
     ]
    }
   ],
   "source": [
    "from sklearn.metrics import precision_score, recall_score\n",
    "print (\"precision : \" + str (precision_score(y_test, predictions_test)))\n",
    "print (\"recall : \" + str (recall_score(y_test, predictions_test)))"
   ]
  },
  {
   "cell_type": "markdown",
   "id": "5d601269",
   "metadata": {},
   "source": [
    "# Prediction"
   ]
  },
  {
   "cell_type": "code",
   "execution_count": 36,
   "id": "aefae76c",
   "metadata": {},
   "outputs": [],
   "source": [
    "def all_preprocessing(text):\n",
    "    text = remove_expression(text)\n",
    "    text = remove_punctuation(text)\n",
    "    text = text.lower()\n",
    "    text = tokenization(text)\n",
    "    text = remove_stopwords(text)\n",
    "    text = stemming(text)\n",
    "    text = join_tokens(text)\n",
    "    return text\n",
    "    "
   ]
  },
  {
   "cell_type": "code",
   "execution_count": 56,
   "id": "07445e21",
   "metadata": {},
   "outputs": [
    {
     "name": "stdout",
     "output_type": "stream",
     "text": [
      "spam\n"
     ]
    }
   ],
   "source": [
    "test1 = \"Do you want to earn money by these simple steps!\"\n",
    "\n",
    "predictions_test = clf_pipeline.predict([all_preprocessing(test1)])\n",
    "\n",
    "if (predictions_test[0] >= 0.9):\n",
    "    print(\"spam\")\n",
    "else:\n",
    "    print(\"not spam\")\n"
   ]
  },
  {
   "cell_type": "code",
   "execution_count": 57,
   "id": "6a905bcf",
   "metadata": {},
   "outputs": [
    {
     "name": "stdout",
     "output_type": "stream",
     "text": [
      "not spam\n"
     ]
    }
   ],
   "source": [
    "test2 = \"Please share your updated resume for the next rounds of the interview\"\n",
    "\n",
    "predictions_test = clf_pipeline.predict([all_preprocessing(test2)])\n",
    "\n",
    "if (predictions_test[0] >= 0.9):\n",
    "    print(\"spam\")\n",
    "else:\n",
    "    print(\"not spam\")"
   ]
  }
 ],
 "metadata": {
  "kernelspec": {
   "display_name": "Python 3 (ipykernel)",
   "language": "python",
   "name": "python3"
  },
  "language_info": {
   "codemirror_mode": {
    "name": "ipython",
    "version": 3
   },
   "file_extension": ".py",
   "mimetype": "text/x-python",
   "name": "python",
   "nbconvert_exporter": "python",
   "pygments_lexer": "ipython3",
   "version": "3.8.9"
  }
 },
 "nbformat": 4,
 "nbformat_minor": 5
}
